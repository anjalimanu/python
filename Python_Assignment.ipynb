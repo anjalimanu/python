{
 "cells": [
  {
   "cell_type": "code",
   "execution_count": null,
   "metadata": {},
   "outputs": [],
   "source": [
    "\n",
    "class totalrecord :\n",
    "    def add(self,studentNo,studentName,studentCourse):\n",
    "        self.StudentNo=Studentnum[]\n",
    "        self.StudentName=Studentnam[]\n",
    "        self.StudentCourse=StudentCou[]\n",
    "        \n",
    "        for x in range (5):\n",
    "        i=int(input(\"Enter a student no :\"))\n",
    "        for len(i)==8\n",
    "            Num=Studentnum[]. append (i)\n",
    "            return Numlist\n",
    "        \n",
    "         for y in range (5)\n",
    "            Name1=input(\"Enter the name of student1 :\")\n",
    "         \n",
    "            Name1=Studentnum[]. append (i)\n",
    "            return Name1list\n",
    "        \n",
    "        for z in range (5):\n",
    "            course=input(\"enter the studentCourse:\")\n",
    "            for len(course)==7:\n",
    "          "
   ]
  },
  {
   "cell_type": "code",
   "execution_count": 1,
   "metadata": {},
   "outputs": [
    {
     "ename": "SyntaxError",
     "evalue": "invalid syntax (<ipython-input-1-2dd794bb4d88>, line 3)",
     "output_type": "error",
     "traceback": [
      "\u001b[1;36m  File \u001b[1;32m\"<ipython-input-1-2dd794bb4d88>\"\u001b[1;36m, line \u001b[1;32m3\u001b[0m\n\u001b[1;33m    student_data = ['stud_name', 'stud_rollno', 'mark1', 'mark2','mark3','total', 'average'] for i in range(0,n):\u001b[0m\n\u001b[1;37m                                                                                               ^\u001b[0m\n\u001b[1;31mSyntaxError\u001b[0m\u001b[1;31m:\u001b[0m invalid syntax\n"
     ]
    }
   ],
   "source": []
  },
  {
   "cell_type": "code",
   "execution_count": 2,
   "metadata": {},
   "outputs": [
    {
     "ename": "SyntaxError",
     "evalue": "invalid syntax (<ipython-input-2-2c51f66103d1>, line 3)",
     "output_type": "error",
     "traceback": [
      "\u001b[1;36m  File \u001b[1;32m\"<ipython-input-2-2c51f66103d1>\"\u001b[1;36m, line \u001b[1;32m3\u001b[0m\n\u001b[1;33m    b=\u001b[0m\n\u001b[1;37m      ^\u001b[0m\n\u001b[1;31mSyntaxError\u001b[0m\u001b[1;31m:\u001b[0m invalid syntax\n"
     ]
    }
   ],
   "source": []
  },
  {
   "cell_type": "code",
   "execution_count": null,
   "metadata": {},
   "outputs": [],
   "source": []
  }
 ],
 "metadata": {
  "kernelspec": {
   "display_name": "Python 3",
   "language": "python",
   "name": "python3"
  },
  "language_info": {
   "codemirror_mode": {
    "name": "ipython",
    "version": 3
   },
   "file_extension": ".py",
   "mimetype": "text/x-python",
   "name": "python",
   "nbconvert_exporter": "python",
   "pygments_lexer": "ipython3",
   "version": "3.7.3"
  }
 },
 "nbformat": 4,
 "nbformat_minor": 2
}
